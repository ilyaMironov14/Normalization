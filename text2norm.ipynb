{
 "cells": [
  {
   "cell_type": "code",
   "execution_count": null,
   "metadata": {},
   "outputs": [],
   "source": [
    "#лексико графический порядок!!\n",
    "#Читска на верхнем регистре уже есть\n",
    "#"
   ]
  },
  {
   "cell_type": "code",
   "execution_count": 6,
   "metadata": {},
   "outputs": [
    {
     "name": "stdout",
     "output_type": "stream",
     "text": [
      "Populating the interactive namespace from numpy and matplotlib\n",
      "CPU times: user 3.75 ms, sys: 0 ns, total: 3.75 ms\n",
      "Wall time: 3.58 ms\n"
     ]
    }
   ],
   "source": [
    "%%time \n",
    "%matplotlib inline\n",
    "%pylab inline\n",
    "from nltk.collocations import *\n",
    "import nltk\n",
    "import re\n",
    "from nltk.corpus import stopwords\n",
    "from nltk.tokenize import word_tokenize\n",
    "\n",
    "# класс нормализации текста \n",
    "\n",
    "class Normalization:\n",
    "    __tokens = []                               #массив из токенизированного текста\n",
    "    \n",
    "    def __init__(self, text, regular='[^a-zA-Z0-9.& ]', registr = False):\n",
    "        reg = re.compile(regular)\n",
    "        middleToken = []\n",
    "        if not registr :                        #очистка строки по регулярке + удаление всех лишних пробелов\n",
    "            self.text = re.sub(r\"\\s+\", u\" \",reg.sub(' ', text.strip()).lower())\n",
    "        else:\n",
    "            self.text = re.sub(r\"\\s+\", u\" \",reg.sub(' ', text.strip()))\n",
    "        self.__tokens = word_tokenize(self.text)\n",
    "        for token in self.__tokens:             #Формирование токенов из (word.word)\n",
    "            if token.find(\".\") != -1 and token != \".\":\n",
    "                token = token.replace(\".\", \" . \")\n",
    "                middleToken+=word_tokenize(token)\n",
    "            else:\n",
    "                middleToken.append(token)\n",
    "        self.__tokens = middleToken\n",
    "    \n",
    "    def printText(self):\n",
    "        print(self.text)\n",
    "        \n",
    "    def printTokens(self):\n",
    "        print(self.__tokens[0:900])\n",
    "        \n",
    "    #WordNet лемматизация, результат формуриуется в __tokens\n",
    "    def lemmatisation(self): \n",
    "        wnl = nltk.WordNetLemmatizer()\n",
    "        self.__tokens = [wnl.lemmatize(token) for token in self.__tokens]\n",
    "        self.text = nltk.Text(self.__tokens)\n",
    "        return self.__tokens\n",
    "    \n",
    "    #Очистка слов, по умолчанию стоит классический корпус стоп-слов из NLTK\n",
    "    def wordCleaner(self, stopWords = stopwords.words('english')):\n",
    "        self.__tokens = [w for w in self.__tokens if not w.lower() in stopWords]\n",
    "        self.text = nltk.Text(self.__tokens)\n",
    "        return self.__tokens\n",
    "        \n",
    "    #Удаление лишних частей речи\n",
    "    def posTagging(self, badForm = [\"PRP\", \"CD\", \"DT\", \"WRB\"]):\n",
    "        pos_tagger = nltk.pos_tag(self.__tokens)\n",
    "        self.__tokens = [wt[0] for wt in pos_tagger if wt[1] not in badForm]\n",
    "        self.text = nltk.Text(self.__tokens)\n",
    "        return self.__tokens\n",
    "        \n",
    "    #Разбиение токенов на биграммы, используется ф-ция PMI (мб добавить несколько вариатнов?)\n",
    "    def bigramMeasure(self, app_filter = 1):\n",
    "        bigram_measures = nltk.collocations.BigramAssocMeasures() \n",
    "        finder = BigramCollocationFinder.from_words(self.__tokens) \n",
    "        finder.apply_freq_filter(app_filter)   \n",
    "        self.__tokens = [t[0] for t in finder.score_ngrams (bigram_measures.pmi)]\n",
    "        return self.__tokens\n",
    "    \n",
    "    #Удаление \"мусора\", использовать очень осторожно!! Удаляет все слова, встреча которых меньше min_entry\n",
    "    def abraCleaner(self, min_entry = 1):\n",
    "        dicToken = {}\n",
    "        self.__tokens = [token for token in self.__tokens if len(token) > 1 or token == \".\"]\n",
    "        for token in self.__tokens:\n",
    "            if token.lower() not in dicToken:\n",
    "                dicToken[token.lower()] = 1\n",
    "            else: \n",
    "                dicToken[token.lower()] +=1 \n",
    "        self.__tokens = [token for token in self.__tokens if dicToken[token.lower()] > min_entry]\n",
    "        return self.__tokens\n",
    "        \n",
    "        \n",
    "    #Полная нормализация текста, используются настройки ф-ций по умолчанию\n",
    "    def fullNormalization(self, lem = True, clean = True, tag = True,\n",
    "                          abra = True, bigram = True):\n",
    "        if lem:\n",
    "            self.lemmatisation()\n",
    "        if clean:\n",
    "            self.wordCleaner()\n",
    "        if tag:\n",
    "            self.posTagging()\n",
    "        if abra:\n",
    "            self.abraCleaner()\n",
    "        if bigram:\n",
    "            self.bigramMeasure()\n",
    "        return self.__tokens\n",
    "        "
   ]
  },
  {
   "cell_type": "code",
   "execution_count": 2,
   "metadata": {},
   "outputs": [],
   "source": [
    "s=\"\"\n",
    "for line in open(\"AllText.txt\", \"r\"):\n",
    "    s+=line"
   ]
  },
  {
   "cell_type": "code",
   "execution_count": null,
   "metadata": {},
   "outputs": [],
   "source": []
  },
  {
   "cell_type": "code",
   "execution_count": 14,
   "metadata": {},
   "outputs": [
    {
     "name": "stdout",
     "output_type": "stream",
     "text": [
      "['investment', 'Preferred', 'Stock', 'involves', 'high', 'degree', 'risk', '.', 'making', 'investment', 'Preferred', 'Stock', 'carefully', 'consider', 'following', 'risk', 'well', 'information', 'contained', 'prospectus', '.', 'risk', 'described', 'could', 'materially', 'harm', 'business', 'financial', 'condition', 'result', 'operation', 'prospect', '.', 'result', 'trading', 'price', 'Preferred', 'Stock', 'could', 'decline', 'may', 'lose', 'part', 'investment', '.', 'statement', 'prospectus', 'including', 'statement', 'following', 'risk', 'factor', 'constitute', 'forward', 'looking', 'statement', '.', 'See', 'section', 'prospectus', 'entitled', 'Special', 'Note', 'Regarding', 'Forward', 'Looking', 'Statements', '.', 'Risks', 'Relating', 'CompanyWe', 'may', 'future', 'opportunity', 'participate', 'take', 'program', '.', 'able', 'obtain', 'policy', 'last', 'annual', 'LA', 'Citizens', 'take', 'occurring', 'December', 'year', 'approximately', 'policy', 'force', 'approximately', 'total', 'policy', 'force', 'December', '.', 'Furthermore', 'participated', 'first', 'depopulation', 'FL', 'Citizens', 'December', 'inaugural', 'take', 'policy', 'TWIA', 'December', '.', 'future', 'may', 'able', 'obtain', 'quantity', 'quality', 'policy', 'currently', 'obtained', 'due', 'change', 'take', 'program', 'inability', 'meet', 'take', 'program', 'participation', 'requirement', 'due', 'change', 'market', 'general', '.', 'Additionally', 'competitor', 'could', 'change', 'risk', 'profile', 'characteristic', 'write', 'risk', 'directly', 'would', 'cause', 'lose', 'policy', '.', 'loss', 'policy', 'could', 'impact', 'ability', 'fixed', 'expense', 'lower', 'volume', 'future', '.', 'substantial', 'portion', 'force', 'policy', 'assumed', 'state', 'run', 'insurer', 'cover', 'loss', 'arising', 'wind', 'hail', 'creates', 'large', 'concentration', 'business', 'wind', 'hail', 'coverage', 'limit', 'ability', 'implement', 'restrictive', 'underwriting', 'guideline', '.', 'LA', 'Citizens', 'FL', 'Citizens', 'write', 'full', 'peril', 'protection', 'policy', 'addition', 'wind', 'hail', 'policy', 'majority', 'policy', 'obtained', 'insurer', 'take', 'program', 'cover', 'loss', 'arising', 'wind', 'hail', '.', 'Furthermore', 'policy', 'assumed', 'TWIA', 'wind', 'hail', 'policy', 'TWIA', 'doe', 'write', 'full', 'peril', 'protection', 'policy', '.', 'Prior', 'take', 'many', 'LA', 'Citizens', 'FL', 'Citizens', 'TWIA', 'policyholder', 'able', 'obtain', 'coverage', 'marketplace', '.', 'Approximately', 'total', 'number', 'policy', 'force', 'December', 'represent', 'LA', 'Citizens', 'FL', 'Citizens', 'TWIA', 'wind', 'hail', 'coverage', 'insurance', 'company', 'declined', 'insure', '.', 'exposure', 'may', 'subject', 'greater', 'risk', 'catastrophic', 'event', '.', 'voluntary', 'independent', 'agency', 'program', 'includes', 'various', 'restrictive', 'underwriting', 'strategy', 'unable', 'implement', 'strategy', 'wind', 'hail', 'policy', 'taken', 'LA', 'FL', 'Citizens', 'TWIA', '.', 'Pursuant', 'depopulation', 'program', 'must', 'offer', 'minimum', 'number', 'renewal', 'policy', 'taken', 'program', 'thus', 'limiting', 'ability', 'implement', 'underwriting', 'guideline', '.', 'Upon', 'renewal', 'policy', 'however', 'analyze', 'replacement', 'cost', 'ensure', 'appropriate', 'amount', 'coverage', 'effect', '.', 'result', 'may', 'negatively', 'impacted', 'limitation', '.', 'risk', 'lack', 'geographic', 'diversification', 'concentration', 'policyholder', 'Louisiana', 'Texas', '.', 'September', 'approximately', 'policy', 'force', '.', 'policy', 'approximately', 'State', 'Louisiana', 'remaining', 'policy', 'State', 'Texas', '.', 'state', 'significant', 'exposed', 'Gulf', '.', 'According', 'Coastal', 'Protection', 'Authority', 'Louisiana', 'resident', 'approximately', 'state', 'population', 'based', '.', '.', 'Census', 'estimate', 'Louisiana', 'coastal', 'parish', '.', 'Maison', 'insures', 'personal', 'property', 'located', 'parish', 'State', 'Louisiana', '.', 'September', 'policy', 'concentrated', 'within', 'parish', 'presented', 'percentage', 'total', 'policy', 'force', 'state', 'follows', 'Parish', '.', 'Saint', 'Parish', '.', 'East', 'Baton', 'Rouge', 'Parish', '.', 'Parish', '.', '.', 'parish', 'individually', 'ha', '.', 'policy', 'force', 'September', '.', 'direct', 'basis', 'Maison', 'writes', 'county', 'comprise', 'State', 'Texas', 'however', 'single', 'county', 'represents', '.', 'Company', 'total', 'policy', 'force', 'September', '.', 'able', 'significantly', 'expand', 'state', 'may', 'risk', 'higher', 'reinsurance', 'cost', 'greater', 'loss', 'experience', 'storm', 'activity', 'occurring', 'Texas', 'Louisiana', '.', 'strategy', 'expand', 'state', 'including', 'Florida', 'may', 'succeed', '.', 'strategy', 'growth', 'includes', 'potentially', 'entering', 'new', 'state', '.', 'strategy', 'could', 'divert', 'management', 'attention', '.', 'predict', 'whether', 'able', 'enter', 'new', 'state', 'whether', 'applicable', 'state', 'regulator', 'grant', 'Maison', 'license', 'business', 'state', '.', 'know', 'realize', 'anticipated', 'benefit', 'operating', 'new', 'state', 'substantial', 'unanticipated', 'cost', 'associated', 'expansion', '.', 'factor', 'could', 'adversely', 'affect', 'financial', 'position', 'result', 'operation', '.', 'Although', 'received', 'authorization', 'FOIR', 'via', 'consent', 'order', 'write', 'personal', 'line', 'business', 'State', 'Florida', 'order', 'limit', 'number', 'policy', 'Maison', 'may', 'assume', 'stipulates', 'maintain', 'catastrophe', 'reinsurance', 'level', 'deemed', 'appropriate', 'FOIR', '.', 'able', 'comply', 'regulation', 'expansion', 'Florida', 'may', 'succeed', '.', 'exposure', 'unpredictable', 'catastrophe', 'may', 'material', 'adverse', 'effect', 'financial', 'result', 'occur', '.', 'offer', 'full', 'peril', 'protection', 'wind', 'hail', 'insurance', 'policy', 'cover', 'homeowner', 'owner', 'manufactured', 'home', 'well', 'dwelling', 'fire', 'policy', 'owner', 'property', 'others', 'loss', 'result', 'among', 'thing', 'catastrophe', '.', 'therefore', 'subject', 'claim', 'arising', 'catastrophe', 'may', 'significant', 'effect', 'business', 'result', 'operation', 'financial', 'condition', '.', 'caused', 'various', 'event', 'including', 'hurricane', 'tropical', 'storm', 'tornado', 'windstorm', 'earthquake', 'hailstorm', 'explosion', 'flood', 'fire', 'man', 'made', 'event', 'terrorist', 'attack', '.', 'severity', 'catastrophe', 'inherently', 'unpredictable', '.', 'extent', 'loss', 'catastrophe', 'function', 'total', 'amount', 'insured', 'exposure', 'area', 'affected', 'event', 'severity', 'event', '.', 'policyholder', 'currently', 'concentrated', 'Louisiana', 'Texas', '.', 'state', 'subject', 'adverse', 'weather', 'condition', 'hurricane', 'tropical', 'storm', '.', 'example', 'late', 'August', 'Hurricane', 'Harvey', 'made', 'Louisiana', 'Texas', 'impacting', 'many', 'policyholder', '.', 'event', 'primarily', 'impacted', 'Texas', 'policyholder', 'along', 'relatively', 'smaller', 'number', 'Louisiana', 'policyholder', '.', 'Insurance', 'company', 'permitted', 'reserve', 'catastrophe', 'event', 'take', 'place', '.', 'Therefore', 'severe', 'catastrophe', 'series', 'catastrophe', 'could', 'exceed', 'reinsurance', 'protection', 'may', 'material', 'adverse', 'impact', 'result', 'operation', 'financial', 'condition', '.', 'result', 'may', 'fluctuate', 'based', 'many', 'factor', 'including', 'cyclical', 'change', 'insurance', 'industry', '.', 'insurance', 'business', 'ha', 'historically', 'cyclical', 'industry', 'characterized', 'period', 'intense', 'price', 'competition', 'due', 'excessive', 'underwriting', 'capacity', 'well', 'period', 'shortage', 'capacity', 'permitted', 'increase', 'pricing', 'thus', 'favorable', 'underwriting', 'profit', '.', 'increase', 'premium', 'level', 'often', 'offset', 'time', 'increasing', 'supply', 'insurance', 'capacity', 'form', 'capital', 'provided', 'new', 'entrant', 'existing', 'insurer', 'may', 'cause', 'price', 'decrease', '.', 'factor', 'could', 'lead', 'significant', 'reduction', 'premium', 'rate', 'le', 'favorable', 'policy', 'term', 'fewer', 'opportunity', 'underwrite', 'insurance', 'risk', 'factor', 'could', 'material', 'adverse', 'effect', 'result', 'operation', 'cash', 'flow', '.', 'addition', 'consideration', 'change', 'frequency', 'severity', 'loss', 'suffered', 'insured', 'insurer', 'may', 'affect', 'cycle', 'insurance', 'business', 'significantly', '.', 'factor', 'may', 'cause', 'price', 'common', 'stock', 'volatile', '.', 'predict', 'whether', 'market', 'condition', 'improve', 'remain', 'deteriorate', '.', 'Negative', 'market', 'condition', 'may', 'impair', 'ability', 'write', 'insurance', 'rate', 'consider', 'appropriate', 'relative', 'risk', 'assumed', '.', 'able', 'write', 'insurance', 'appropriate', 'rate', 'ability', 'transact', 'business', 'would', 'materially', 'adversely', 'affected', '.', 'Increased', 'competition', 'could', 'adversely', 'impact', 'result', 'growth', '.', 'property', 'casualty', 'insurance', 'industry', 'highly', 'competitive', '.', 'compete', 'stock', 'company', 'also', 'mutual', 'company', 'underwriting', 'organization', 'alternative', 'risk', 'sharing', 'mechanism', '.', 'Many', 'competitor', 'substantially', 'greater', 'resource', 'name', 'recognition', '.', 'principal', 'competitor', 'easily', 'classified', 'Maison', 'considers', 'primary', 'competing', 'insurer', 'ASI', 'Lloyds']\n"
     ]
    }
   ],
   "source": [
    "x = Normalization(s ,registr = True)\n",
    "x.lemmatisation()\n",
    "x.wordCleaner()\n",
    "x.posTagging()\n",
    "x.abraCleaner()\n",
    "x.fullNormalization(bigram=False)\n",
    "x.printTokens()"
   ]
  },
  {
   "cell_type": "code",
   "execution_count": 115,
   "metadata": {},
   "outputs": [
    {
     "data": {
      "text/plain": [
       "[]"
      ]
     },
     "execution_count": 115,
     "metadata": {},
     "output_type": "execute_result"
    }
   ],
   "source": []
  },
  {
   "cell_type": "code",
   "execution_count": 14,
   "metadata": {},
   "outputs": [
    {
     "data": {
      "text/plain": [
       "[('exchange', 'traded'),\n",
       " ('traded', 'fund'),\n",
       " ('etf', 'fgh'),\n",
       " ('fgh', 'etf'),\n",
       " ('fgh', 'exchange')]"
      ]
     },
     "execution_count": 14,
     "metadata": {},
     "output_type": "execute_result"
    }
   ],
   "source": [
    "s1 =\"FGH, etf, fgh, Exchange Traded Funds\"\n",
    "y = Normalization(s1)\n",
    "y.fullNormalization()"
   ]
  },
  {
   "cell_type": "code",
   "execution_count": null,
   "metadata": {},
   "outputs": [],
   "source": []
  }
 ],
 "metadata": {
  "kernelspec": {
   "display_name": "Python 3",
   "language": "python",
   "name": "python3"
  },
  "language_info": {
   "codemirror_mode": {
    "name": "ipython",
    "version": 3
   },
   "file_extension": ".py",
   "mimetype": "text/x-python",
   "name": "python",
   "nbconvert_exporter": "python",
   "pygments_lexer": "ipython3",
   "version": "3.5.2"
  }
 },
 "nbformat": 4,
 "nbformat_minor": 2
}
